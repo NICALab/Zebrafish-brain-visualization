{
 "cells": [
  {
   "cell_type": "code",
   "execution_count": 1,
   "metadata": {},
   "outputs": [],
   "source": [
    "import napari\n",
    "import skimage.io as skio\n",
    "\n",
    "import numpy as np\n",
    "from napari_animation import Animation\n"
   ]
  },
  {
   "cell_type": "code",
   "execution_count": 2,
   "metadata": {},
   "outputs": [],
   "source": [
    "raw_bone2 = skio.imread(\"/media/user/SJ_Finished/FRECTAL_wholeexm_napari/Data/JoVE_Confocal_Casper_GCaMP7a_4dpf_S1R1_xyPixel_0p34um_step_1p225um.tif\")"
   ]
  },
  {
   "cell_type": "code",
   "execution_count": 4,
   "metadata": {},
   "outputs": [
    {
     "name": "stdout",
     "output_type": "stream",
     "text": [
      "(255, 1024, 612)\n"
     ]
    }
   ],
   "source": [
    "raw_bone2_proc = raw_bone2[:, ::2, ::2]\n",
    "\n",
    "print(raw_bone2_proc.shape)"
   ]
  },
  {
   "cell_type": "code",
   "execution_count": 5,
   "metadata": {},
   "outputs": [
    {
     "name": "stdout",
     "output_type": "stream",
     "text": [
      "(128, 1024, 612)\n"
     ]
    }
   ],
   "source": [
    "frame = np.zeros((128, 1024, 612), dtype=\"float16\")\n",
    "print(frame.shape)\n",
    "\n",
    "width = 1\n",
    "\n",
    "frame[0:width, 0:width, :] = 1\n",
    "frame[0:width, -1 * width:, :] = 1\n",
    "frame[-1*width:, 0:width, :] = 1\n",
    "frame[-1*width:, -1 * width:, :] = 1\n",
    "\n",
    "frame[:, 0:width, 0:width] = 1\n",
    "frame[:, 0:width, -1 * width:] = 1\n",
    "frame[:, -1*width:, 0:width] = 1\n",
    "frame[:, -1*width, -1 * width:] = 1\n",
    "\n",
    "frame[0:width, :, 0:width] = 1\n",
    "frame[0:width, :, -1 * width:] = 1\n",
    "frame[-1*width:, :, 0:width] = 1\n",
    "frame[-1*width, :, -1 * width:] = 1"
   ]
  },
  {
   "cell_type": "code",
   "execution_count": 6,
   "metadata": {},
   "outputs": [
    {
     "name": "stderr",
     "output_type": "stream",
     "text": [
      "WARNING: inotify_add_watch(/home/user/.config/ibus/bus/fdc8fa4a1e9a44929feb111b1ddcedaa-unix-10) failed: (No space left on device)\n"
     ]
    }
   ],
   "source": [
    "# Assign viewer and show image\n",
    "viewer = napari.Viewer()\n",
    "animation = Animation(viewer)\n",
    "\n",
    "zebrafish = raw_bone2_proc\n",
    "\n",
    "image_layer = viewer.add_image(zebrafish, colormap='gray', blending='additive')\n",
    "\n",
    "frame_layer = viewer.add_image(frame, colormap='gray', blending='additive')\n",
    "\n",
    "\n",
    "\n",
    "image_layer.scale = (1.225, 0.34, 0.34)\n",
    "frame_layer.scale = (1.225*0.5, 0.34*0.5, 0.34*0.5)\n",
    "\n",
    "viewer.dims.ndisplay = 3\n",
    "viewer.reset_view()\n",
    "\"\"\"\n",
    "viewer.camera.perspective = 45\n",
    "viewer.camera.zoom = 4.1\n",
    "\n",
    "\"\"\"\n",
    "viewer.camera.zoom = 4.096738202801418\n",
    "viewer.camera.center = (70.740625, 86.9125, 51.892500000000005)\n",
    "viewer.camera.perspective = 45\n",
    "viewer.camera.angles = (158.421985898677, -24.687449823254457, 40.73277443067422)\n"
   ]
  }
 ],
 "metadata": {
  "interpreter": {
   "hash": "482d579d1c888c462b3f06bfdb901355a5e13b6cd9e502cd0d5cedb08850fedf"
  },
  "kernelspec": {
   "display_name": "Python 3.7.11 ('sh')",
   "language": "python",
   "name": "python3"
  },
  "language_info": {
   "codemirror_mode": {
    "name": "ipython",
    "version": 3
   },
   "file_extension": ".py",
   "mimetype": "text/x-python",
   "name": "python",
   "nbconvert_exporter": "python",
   "pygments_lexer": "ipython3",
   "version": "3.8.16"
  },
  "orig_nbformat": 4
 },
 "nbformat": 4,
 "nbformat_minor": 2
}
