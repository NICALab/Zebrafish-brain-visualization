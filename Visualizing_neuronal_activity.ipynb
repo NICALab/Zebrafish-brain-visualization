{
 "cells": [
  {
   "cell_type": "code",
   "execution_count": 1,
   "metadata": {},
   "outputs": [
    {
     "name": "stderr",
     "output_type": "stream",
     "text": [
      "/home/user/.conda/envs/ML/lib/python3.8/site-packages/tqdm/auto.py:22: TqdmWarning: IProgress not found. Please update jupyter and ipywidgets. See https://ipywidgets.readthedocs.io/en/stable/user_install.html\n",
      "  from .autonotebook import tqdm as notebook_tqdm\n"
     ]
    }
   ],
   "source": [
    "import napari\n",
    "import skimage.io as skio\n",
    "import torch\n",
    "\n",
    "from napari_animation import Animation\n",
    "from napari.utils.colormaps import Colormap"
   ]
  },
  {
   "cell_type": "code",
   "execution_count": 2,
   "metadata": {},
   "outputs": [],
   "source": [
    "# 1. Load L and S\n",
    "\n",
    "path = \"./S_img.tif\"\n",
    "S = torch.from_numpy(skio.imread(path).astype(float)).type(torch.FloatTensor)\n",
    "\n",
    "path = \"./L_img.tif\"\n",
    "L = torch.from_numpy(skio.imread(path).astype(float)).type(torch.FloatTensor)\n",
    "\n"
   ]
  },
  {
   "cell_type": "code",
   "execution_count": 3,
   "metadata": {},
   "outputs": [],
   "source": [
    "# 2. Generate white box\n",
    "\n",
    "white_box = torch.zeros(L.size(), dtype=torch.float16)  # \n",
    "max_data = 1\n",
    "width = 1\n",
    "white_box[:, 0:width, :] = max_data\n",
    "white_box[:, -width:, :] = max_data\n",
    "white_box[:, :, -width:] = max_data\n",
    "white_box[:, :, 0:width] = max_data\n"
   ]
  },
  {
   "cell_type": "code",
   "execution_count": 4,
   "metadata": {},
   "outputs": [
    {
     "name": "stderr",
     "output_type": "stream",
     "text": [
      "WARNING: inotify_add_watch(/home/user/.config/ibus/bus/fdc8fa4a1e9a44929feb111b1ddcedaa-unix-10) failed: (No space left on device)\n"
     ]
    }
   ],
   "source": [
    "# Assign viewer and show image\n",
    "viewer = napari.Viewer()\n",
    "\n",
    "L_layer = viewer.add_image(L.cpu().numpy(), colormap='gray', opacity=0.32)\n",
    "S_layer = viewer.add_image(S.cpu().numpy(), colormap='green', blending='additive')\n",
    "white_box_layer = viewer.add_image(white_box.cpu().numpy(), blending='additive')\n",
    "\n",
    "\n",
    "from matplotlib import cm\n",
    "color_hot = cm.hot(range(256))\n",
    "\n",
    "import numpy as np\n",
    "from scipy.io import loadmat\n",
    "\n",
    "\n",
    "\n",
    "custom_cmap = Colormap(colors=color_hot, interpolation='linear', name='custom_hot')\n",
    "S_layer.colormap = custom_cmap\n",
    "\n",
    "\n",
    "viewer.dims.ndisplay = 2\n",
    "viewer.reset_view()\n"
   ]
  }
 ],
 "metadata": {
  "kernelspec": {
   "display_name": "ML",
   "language": "python",
   "name": "python3"
  },
  "language_info": {
   "codemirror_mode": {
    "name": "ipython",
    "version": 3
   },
   "file_extension": ".py",
   "mimetype": "text/x-python",
   "name": "python",
   "nbconvert_exporter": "python",
   "pygments_lexer": "ipython3",
   "version": "3.8.16"
  },
  "metadata": {
   "interpreter": {
    "hash": "338e46698637691bde28c58f33f6f2f4e68e2047211ccdb3829b87f3b27d4400"
   }
  },
  "orig_nbformat": 2
 },
 "nbformat": 4,
 "nbformat_minor": 2
}
